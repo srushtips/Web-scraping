{
 "cells": [
  {
   "cell_type": "code",
   "execution_count": 1,
   "metadata": {},
   "outputs": [],
   "source": [
    "import random\n",
    "import requests\n",
    "from bs4 import BeautifulSoup"
   ]
  },
  {
   "cell_type": "code",
   "execution_count": 2,
   "metadata": {},
   "outputs": [],
   "source": [
    "# url = 'https://reelgood.com/movies/source/netflix?offset=0' #Change this later\n",
    "def url_func():\n",
    "#     num=50\n",
    "#     for i in range(0,3600,50):\n",
    "#         print(i)\n",
    "    url_index = random.randrange(0,3650,50)\n",
    "    url = 'https://reelgood.com/movies/source/netflix?offset='+ str(url_index)\n",
    "    print(url)\n",
    "    main(url)\n",
    "    "
   ]
  },
  {
   "cell_type": "code",
   "execution_count": 3,
   "metadata": {},
   "outputs": [],
   "source": [
    "def main(url):\n",
    "    \n",
    "    response = requests.get(url)\n",
    "    html = response.text\n",
    "    soup = BeautifulSoup(html,'html.parser')\n",
    "    movietags = soup.select('td.css-1u7zfla a')\n",
    "    years = soup.select('td.css-1u11l3y')\n",
    "#     moviesplit = movietag.text.split()\n",
    "#     movietag0 = movietags[0].split()\n",
    "#     print(movietags)\n",
    "    titles = [tags.text for tags in movietags]\n",
    "    details = [tags.text for tags in years]\n",
    "#     print(details)\n",
    "#     print(details[0])\n",
    "    n_movies = len(movietags)\n",
    "    print(n_movies)\n",
    "#     print(len(movietags))\n",
    "#     def create_years(n_movies,details):\n",
    "#         years = []\n",
    "#         for i in range(n_movies):\n",
    "#             years.append(details[i*3 + 1])\n",
    "#     create_years(n_movies,details)\n",
    "#     print(years)\n",
    "    def print_details(number,details):\n",
    "        print('Year of release:-' + details[number*4])\n",
    "        print('Age:-' + details[number*4 +1])\n",
    "        print('IMDb Rating:-' + details[number*4 +2])\n",
    "        print('Rotten Tomatoes Rating:-' + details[number*4 +3])\n",
    "        \n",
    "    \n",
    "    \n",
    "        \n",
    "   \n",
    "    while(True):\n",
    "        index = random.randrange(n_movies)\n",
    "        print('Title:-' + titles[index])\n",
    "        print_details(index,details)\n",
    "        user_input = input('Do you want another recommendation?(y/n)')\n",
    "        if user_input!='y':\n",
    "            break\n",
    "        else:\n",
    "            url_func()\n",
    "#     print('-----------')\n",
    "#     print(details[33])\n",
    "#     print(years)\n"
   ]
  },
  {
   "cell_type": "code",
   "execution_count": null,
   "metadata": {},
   "outputs": [
    {
     "name": "stdout",
     "output_type": "stream",
     "text": [
      "https://reelgood.com/movies/source/netflix?offset=400\n",
      "50\n",
      "Title:-The Water Diviner\n",
      "Year of release:-2014\n",
      "Age:-18+\n",
      "IMDb Rating:-7.0\n",
      "Rotten Tomatoes Rating:-61%\n",
      "Do you want another recommendation?(y/n)y\n",
      "https://reelgood.com/movies/source/netflix?offset=650\n",
      "50\n",
      "Title:-Joan Didion: The Center Will Not Hold\n",
      "Year of release:-2017\n",
      "Age:-N/A\n",
      "IMDb Rating:-7.4\n",
      "Rotten Tomatoes Rating:-89%\n",
      "Do you want another recommendation?(y/n)y\n",
      "https://reelgood.com/movies/source/netflix?offset=2150\n",
      "50\n",
      "Title:-Brij Mohan Amar Rahe!\n",
      "Year of release:-2018\n",
      "Age:-N/A\n",
      "IMDb Rating:-6.9\n",
      "Rotten Tomatoes Rating:-N/A\n",
      "Do you want another recommendation?(y/n)y\n",
      "https://reelgood.com/movies/source/netflix?offset=300\n",
      "50\n",
      "Title:-Cuba and the Cameraman\n",
      "Year of release:-2017\n",
      "Age:-N/A\n",
      "IMDb Rating:-8.2\n",
      "Rotten Tomatoes Rating:-100%\n",
      "Do you want another recommendation?(y/n)n\n",
      "Title:-Rangreza\n",
      "Year of release:-2017\n",
      "Age:-N/A\n",
      "IMDb Rating:-5.4\n",
      "Rotten Tomatoes Rating:-N/A\n"
     ]
    }
   ],
   "source": [
    "if __name__== '__main__':\n",
    "    url_func()"
   ]
  },
  {
   "cell_type": "code",
   "execution_count": null,
   "metadata": {},
   "outputs": [],
   "source": []
  },
  {
   "cell_type": "code",
   "execution_count": null,
   "metadata": {},
   "outputs": [],
   "source": []
  }
 ],
 "metadata": {
  "kernelspec": {
   "display_name": "Python 3",
   "language": "python",
   "name": "python3"
  },
  "language_info": {
   "codemirror_mode": {
    "name": "ipython",
    "version": 3
   },
   "file_extension": ".py",
   "mimetype": "text/x-python",
   "name": "python",
   "nbconvert_exporter": "python",
   "pygments_lexer": "ipython3",
   "version": "3.7.6"
  }
 },
 "nbformat": 4,
 "nbformat_minor": 4
}
