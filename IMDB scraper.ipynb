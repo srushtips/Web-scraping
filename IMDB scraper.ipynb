{
 "cells": [
  {
   "cell_type": "code",
   "execution_count": 1,
   "metadata": {},
   "outputs": [],
   "source": [
    "url= 'https://www.imdb.com/chart/top/'"
   ]
  },
  {
   "cell_type": "code",
   "execution_count": 2,
   "metadata": {},
   "outputs": [],
   "source": [
    "import random\n",
    "import requests"
   ]
  },
  {
   "cell_type": "code",
   "execution_count": 3,
   "metadata": {},
   "outputs": [],
   "source": [
    "from bs4 import BeautifulSoup"
   ]
  },
  {
   "cell_type": "code",
   "execution_count": 4,
   "metadata": {},
   "outputs": [],
   "source": [
    "def main():\n",
    "    response = requests.get(url)\n",
    "    html = response.text\n",
    "    soup = BeautifulSoup(html,'html.parser')\n",
    "    movietags = soup.select('td.titleColumn')\n",
    "    inner_movietags = soup.select('td.titleColumn a')\n",
    "    rating_tags = soup.select('td.posterColumn span[name=ir]')\n",
    "#     print(rating_tags[0])\n",
    "#     inner0 = inner_movietags[0]\n",
    "    #print(inner0)\n",
    "#     actor = inner0['title']\n",
    "#     name = inner0.text\n",
    "#     print(actor)\n",
    "#     print(name)\n",
    "    \n",
    "#     def get_actor(inner_movietag):\n",
    "#         return inner_movietag['title']\n",
    "#     def get_title(inner_movietag):\n",
    "#         return inner_movietag.text\n",
    "    def get_year(movietag):\n",
    "        moviesplit = movietag.text.split()\n",
    "        return moviesplit[-1]\n",
    "    years = [get_year(tag) for tag in movietags]\n",
    "    actors = [tag['title'] for tag in inner_movietags]\n",
    "    titles = [tag.text for tag in inner_movietags]\n",
    "    ratings = [float(tag['data-value']) for tag in rating_tags]\n",
    "    \n",
    "    n_movies = len(titles)\n",
    "    while(True):\n",
    "        index = random.randrange(0,n_movies)\n",
    "        print(f'{titles[index]} {years[index]}, rating:{ratings[index]:.1f}, starring:{actors[index]}')\n",
    "        user_input = input('Do you want another recommendation?(y/n)')\n",
    "        if user_input!='y':\n",
    "            break\n",
    "        \n",
    "#     print(ratings)\n",
    "        \n",
    "    #print(years)\n",
    "#     print(actors)\n",
    "    "
   ]
  },
  {
   "cell_type": "code",
   "execution_count": 5,
   "metadata": {},
   "outputs": [
    {
     "name": "stdout",
     "output_type": "stream",
     "text": [
      "Eternal Sunshine of the Spotless Mind (2004), rating:8.3, starring:Michel Gondry (dir.), Jim Carrey, Kate Winslet\n",
      "Do you want another recommendation?(y/n)y\n",
      "Rashômon (1950), rating:8.2, starring:Akira Kurosawa (dir.), Toshirô Mifune, Machiko Kyô\n",
      "Do you want another recommendation?(y/n)n\n"
     ]
    }
   ],
   "source": [
    "if __name__== '__main__':\n",
    "    main()"
   ]
  },
  {
   "cell_type": "code",
   "execution_count": null,
   "metadata": {},
   "outputs": [],
   "source": []
  }
 ],
 "metadata": {
  "kernelspec": {
   "display_name": "Python 3",
   "language": "python",
   "name": "python3"
  },
  "language_info": {
   "codemirror_mode": {
    "name": "ipython",
    "version": 3
   },
   "file_extension": ".py",
   "mimetype": "text/x-python",
   "name": "python",
   "nbconvert_exporter": "python",
   "pygments_lexer": "ipython3",
   "version": "3.7.6"
  }
 },
 "nbformat": 4,
 "nbformat_minor": 4
}
